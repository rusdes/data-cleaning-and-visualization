{
 "cells": [
  {
   "cell_type": "code",
   "execution_count": 1,
   "metadata": {},
   "outputs": [],
   "source": [
    "import numpy as np\n",
    "import pandas as pd\n",
    "import matplotlib.pyplot as plt\n",
    "import seaborn as sns\n",
    "from scipy.stats import gaussian_kde\n",
    "\n",
    "%matplotlib inline"
   ]
  },
  {
   "cell_type": "markdown",
   "metadata": {},
   "source": [
    "## Read Data"
   ]
  },
  {
   "cell_type": "code",
   "execution_count": 2,
   "metadata": {},
   "outputs": [
    {
     "data": {
      "text/html": [
       "<div>\n",
       "<style scoped>\n",
       "    .dataframe tbody tr th:only-of-type {\n",
       "        vertical-align: middle;\n",
       "    }\n",
       "\n",
       "    .dataframe tbody tr th {\n",
       "        vertical-align: top;\n",
       "    }\n",
       "\n",
       "    .dataframe thead th {\n",
       "        text-align: right;\n",
       "    }\n",
       "</style>\n",
       "<table border=\"1\" class=\"dataframe\">\n",
       "  <thead>\n",
       "    <tr style=\"text-align: right;\">\n",
       "      <th></th>\n",
       "      <th>category</th>\n",
       "      <th>event_name</th>\n",
       "      <th>gender</th>\n",
       "      <th>age</th>\n",
       "      <th>marital_status</th>\n",
       "      <th>session_id</th>\n",
       "      <th>device</th>\n",
       "      <th>client_time</th>\n",
       "      <th>location</th>\n",
       "      <th>amount</th>\n",
       "    </tr>\n",
       "  </thead>\n",
       "  <tbody>\n",
       "    <tr>\n",
       "      <th>0</th>\n",
       "      <td>Sports</td>\n",
       "      <td>View Project</td>\n",
       "      <td>M</td>\n",
       "      <td>18-24</td>\n",
       "      <td>married</td>\n",
       "      <td>69f62d2ae87640f5a2dde2b2e9229fe6</td>\n",
       "      <td>android</td>\n",
       "      <td>2014-03-01 00:00:04</td>\n",
       "      <td>{'latitude': 40.189788, 'city': 'Lyons', 'stat...</td>\n",
       "      <td>NaN</td>\n",
       "    </tr>\n",
       "    <tr>\n",
       "      <th>1</th>\n",
       "      <td>Technology</td>\n",
       "      <td>View Project</td>\n",
       "      <td>M</td>\n",
       "      <td>18-24</td>\n",
       "      <td>single</td>\n",
       "      <td>4459d001feb8438eae5f4ec24abcd992</td>\n",
       "      <td>iOS</td>\n",
       "      <td>2014-03-01 00:00:22</td>\n",
       "      <td>{'latitude': 33.844371, 'city': 'Alpharetta', ...</td>\n",
       "      <td>NaN</td>\n",
       "    </tr>\n",
       "    <tr>\n",
       "      <th>2</th>\n",
       "      <td>Environment</td>\n",
       "      <td>View Project</td>\n",
       "      <td>M</td>\n",
       "      <td>55+</td>\n",
       "      <td>single</td>\n",
       "      <td>0db9ed700a184d48a9d04806696e3642</td>\n",
       "      <td>iOS</td>\n",
       "      <td>2014-03-01 00:00:32</td>\n",
       "      <td>{'latitude': 42.446396, 'city': 'Westford', 's...</td>\n",
       "      <td>NaN</td>\n",
       "    </tr>\n",
       "    <tr>\n",
       "      <th>3</th>\n",
       "      <td>Technology</td>\n",
       "      <td>View Project</td>\n",
       "      <td>M</td>\n",
       "      <td>18-24</td>\n",
       "      <td>single</td>\n",
       "      <td>68195e2372bd4022b17220fc21de9138</td>\n",
       "      <td>android</td>\n",
       "      <td>2014-03-01 00:00:38</td>\n",
       "      <td>{'latitude': 44.624413, 'city': 'Saranac', 'st...</td>\n",
       "      <td>NaN</td>\n",
       "    </tr>\n",
       "    <tr>\n",
       "      <th>4</th>\n",
       "      <td>Sports</td>\n",
       "      <td>View Project</td>\n",
       "      <td>F</td>\n",
       "      <td>25-34</td>\n",
       "      <td>married</td>\n",
       "      <td>9508a8385dc94773baba8aa7d1c2aa75</td>\n",
       "      <td>iOS</td>\n",
       "      <td>2014-03-01 00:00:51</td>\n",
       "      <td>{'latitude': 36.747083, 'city': 'Lampe', 'stat...</td>\n",
       "      <td>NaN</td>\n",
       "    </tr>\n",
       "  </tbody>\n",
       "</table>\n",
       "</div>"
      ],
      "text/plain": [
       "      category    event_name gender    age marital_status  \\\n",
       "0       Sports  View Project      M  18-24        married   \n",
       "1   Technology  View Project      M  18-24         single   \n",
       "2  Environment  View Project      M    55+         single   \n",
       "3   Technology  View Project      M  18-24         single   \n",
       "4       Sports  View Project      F  25-34        married   \n",
       "\n",
       "                         session_id   device         client_time  \\\n",
       "0  69f62d2ae87640f5a2dde2b2e9229fe6  android 2014-03-01 00:00:04   \n",
       "1  4459d001feb8438eae5f4ec24abcd992      iOS 2014-03-01 00:00:22   \n",
       "2  0db9ed700a184d48a9d04806696e3642      iOS 2014-03-01 00:00:32   \n",
       "3  68195e2372bd4022b17220fc21de9138  android 2014-03-01 00:00:38   \n",
       "4  9508a8385dc94773baba8aa7d1c2aa75      iOS 2014-03-01 00:00:51   \n",
       "\n",
       "                                            location  amount  \n",
       "0  {'latitude': 40.189788, 'city': 'Lyons', 'stat...     NaN  \n",
       "1  {'latitude': 33.844371, 'city': 'Alpharetta', ...     NaN  \n",
       "2  {'latitude': 42.446396, 'city': 'Westford', 's...     NaN  \n",
       "3  {'latitude': 44.624413, 'city': 'Saranac', 'st...     NaN  \n",
       "4  {'latitude': 36.747083, 'city': 'Lampe', 'stat...     NaN  "
      ]
     },
     "execution_count": 2,
     "metadata": {},
     "output_type": "execute_result"
    }
   ],
   "source": [
    "df = pd.read_json('data.json', orient='split')\n",
    "df.head(5)"
   ]
  },
  {
   "cell_type": "markdown",
   "metadata": {},
   "source": [
    "## Data Cleaning and Visualization"
   ]
  },
  {
   "cell_type": "markdown",
   "metadata": {},
   "source": [
    "#### Display unique values in category column"
   ]
  },
  {
   "cell_type": "code",
   "execution_count": 3,
   "metadata": {},
   "outputs": [
    {
     "data": {
      "text/plain": [
       "array(['Sports', 'Technology', 'Environment', 'Fashion', 'Games'],\n",
       "      dtype=object)"
      ]
     },
     "execution_count": 3,
     "metadata": {},
     "output_type": "execute_result"
    }
   ],
   "source": [
    "df.category.unique()"
   ]
  },
  {
   "cell_type": "code",
   "execution_count": 4,
   "metadata": {},
   "outputs": [
    {
     "name": "stderr",
     "output_type": "stream",
     "text": [
      "C:\\Users\\rushi\\anaconda3\\envs\\tf\\lib\\site-packages\\ipykernel_launcher.py:3: UserWarning: Boolean Series key will be reindexed to match DataFrame index.\n",
      "  This is separate from the ipykernel package so we can avoid doing imports until\n"
     ]
    }
   ],
   "source": [
    "# Keep Sports, Technology, and Environment as these relate to our problem statement\n",
    "df_category_filtered = df[df['category'] != 'Fashion']\n",
    "df_category_filtered = df_category_filtered[df['category'] != 'Games']\n"
   ]
  },
  {
   "cell_type": "code",
   "execution_count": 5,
   "metadata": {},
   "outputs": [
    {
     "data": {
      "text/plain": [
       "array(['Sports', 'Technology', 'Environment'], dtype=object)"
      ]
     },
     "execution_count": 5,
     "metadata": {},
     "output_type": "execute_result"
    }
   ],
   "source": [
    "df_category_filtered.category.unique()"
   ]
  },
  {
   "cell_type": "code",
   "execution_count": 6,
   "metadata": {},
   "outputs": [
    {
     "data": {
      "text/html": [
       "<div>\n",
       "<style scoped>\n",
       "    .dataframe tbody tr th:only-of-type {\n",
       "        vertical-align: middle;\n",
       "    }\n",
       "\n",
       "    .dataframe tbody tr th {\n",
       "        vertical-align: top;\n",
       "    }\n",
       "\n",
       "    .dataframe thead th {\n",
       "        text-align: right;\n",
       "    }\n",
       "</style>\n",
       "<table border=\"1\" class=\"dataframe\">\n",
       "  <thead>\n",
       "    <tr style=\"text-align: right;\">\n",
       "      <th></th>\n",
       "      <th>category</th>\n",
       "      <th>event_name</th>\n",
       "      <th>gender</th>\n",
       "      <th>age</th>\n",
       "      <th>marital_status</th>\n",
       "      <th>session_id</th>\n",
       "      <th>device</th>\n",
       "      <th>client_time</th>\n",
       "      <th>location</th>\n",
       "      <th>amount</th>\n",
       "    </tr>\n",
       "  </thead>\n",
       "  <tbody>\n",
       "    <tr>\n",
       "      <th>0</th>\n",
       "      <td>Sports</td>\n",
       "      <td>View Project</td>\n",
       "      <td>M</td>\n",
       "      <td>18-24</td>\n",
       "      <td>married</td>\n",
       "      <td>69f62d2ae87640f5a2dde2b2e9229fe6</td>\n",
       "      <td>android</td>\n",
       "      <td>2014-03-01 00:00:04</td>\n",
       "      <td>{'latitude': 40.189788, 'city': 'Lyons', 'stat...</td>\n",
       "      <td>NaN</td>\n",
       "    </tr>\n",
       "    <tr>\n",
       "      <th>1</th>\n",
       "      <td>Technology</td>\n",
       "      <td>View Project</td>\n",
       "      <td>M</td>\n",
       "      <td>18-24</td>\n",
       "      <td>single</td>\n",
       "      <td>4459d001feb8438eae5f4ec24abcd992</td>\n",
       "      <td>iOS</td>\n",
       "      <td>2014-03-01 00:00:22</td>\n",
       "      <td>{'latitude': 33.844371, 'city': 'Alpharetta', ...</td>\n",
       "      <td>NaN</td>\n",
       "    </tr>\n",
       "    <tr>\n",
       "      <th>2</th>\n",
       "      <td>Environment</td>\n",
       "      <td>View Project</td>\n",
       "      <td>M</td>\n",
       "      <td>55+</td>\n",
       "      <td>single</td>\n",
       "      <td>0db9ed700a184d48a9d04806696e3642</td>\n",
       "      <td>iOS</td>\n",
       "      <td>2014-03-01 00:00:32</td>\n",
       "      <td>{'latitude': 42.446396, 'city': 'Westford', 's...</td>\n",
       "      <td>NaN</td>\n",
       "    </tr>\n",
       "    <tr>\n",
       "      <th>3</th>\n",
       "      <td>Technology</td>\n",
       "      <td>View Project</td>\n",
       "      <td>M</td>\n",
       "      <td>18-24</td>\n",
       "      <td>single</td>\n",
       "      <td>68195e2372bd4022b17220fc21de9138</td>\n",
       "      <td>android</td>\n",
       "      <td>2014-03-01 00:00:38</td>\n",
       "      <td>{'latitude': 44.624413, 'city': 'Saranac', 'st...</td>\n",
       "      <td>NaN</td>\n",
       "    </tr>\n",
       "    <tr>\n",
       "      <th>4</th>\n",
       "      <td>Sports</td>\n",
       "      <td>View Project</td>\n",
       "      <td>F</td>\n",
       "      <td>25-34</td>\n",
       "      <td>married</td>\n",
       "      <td>9508a8385dc94773baba8aa7d1c2aa75</td>\n",
       "      <td>iOS</td>\n",
       "      <td>2014-03-01 00:00:51</td>\n",
       "      <td>{'latitude': 36.747083, 'city': 'Lampe', 'stat...</td>\n",
       "      <td>NaN</td>\n",
       "    </tr>\n",
       "    <tr>\n",
       "      <th>7</th>\n",
       "      <td>Technology</td>\n",
       "      <td>View Project</td>\n",
       "      <td>F</td>\n",
       "      <td>35-44</td>\n",
       "      <td>married</td>\n",
       "      <td>c6f18d84b43b4a4a90fa9a44016c3665</td>\n",
       "      <td>android</td>\n",
       "      <td>2014-03-01 00:02:18</td>\n",
       "      <td>{'latitude': 37.103768, 'city': 'Los Banos', '...</td>\n",
       "      <td>NaN</td>\n",
       "    </tr>\n",
       "    <tr>\n",
       "      <th>9</th>\n",
       "      <td>Technology</td>\n",
       "      <td>View Project</td>\n",
       "      <td>F</td>\n",
       "      <td>45-54</td>\n",
       "      <td>married</td>\n",
       "      <td>e040fa23c3f84ad58ca59f1552fa3f0b</td>\n",
       "      <td>iOS</td>\n",
       "      <td>2014-03-01 00:02:39</td>\n",
       "      <td>{'latitude': 40.203459, 'city': 'Newtown', 'st...</td>\n",
       "      <td>NaN</td>\n",
       "    </tr>\n",
       "    <tr>\n",
       "      <th>10</th>\n",
       "      <td>Technology</td>\n",
       "      <td>View Project</td>\n",
       "      <td>M</td>\n",
       "      <td>18-24</td>\n",
       "      <td>single</td>\n",
       "      <td>a0d400c1626047c29060259d08ee0385</td>\n",
       "      <td>android</td>\n",
       "      <td>2014-03-01 00:02:40</td>\n",
       "      <td>{'latitude': 40.189788, 'city': 'Lyons', 'stat...</td>\n",
       "      <td>NaN</td>\n",
       "    </tr>\n",
       "    <tr>\n",
       "      <th>12</th>\n",
       "      <td>Sports</td>\n",
       "      <td>View Project</td>\n",
       "      <td>F</td>\n",
       "      <td>18-24</td>\n",
       "      <td>married</td>\n",
       "      <td>a1fdfe0bebed4510a9059bcfb3ba1325</td>\n",
       "      <td>iOS</td>\n",
       "      <td>2014-03-01 00:02:51</td>\n",
       "      <td>{'latitude': 33.794055, 'city': 'Atlanta', 'st...</td>\n",
       "      <td>NaN</td>\n",
       "    </tr>\n",
       "    <tr>\n",
       "      <th>15</th>\n",
       "      <td>Technology</td>\n",
       "      <td>View Project</td>\n",
       "      <td>F</td>\n",
       "      <td>18-24</td>\n",
       "      <td>single</td>\n",
       "      <td>1b2a6e9a2e1f46b8827db37a28e7196e</td>\n",
       "      <td>iOS</td>\n",
       "      <td>2014-03-01 00:03:19</td>\n",
       "      <td>{'latitude': 33.724907, 'city': 'Atlanta', 'st...</td>\n",
       "      <td>NaN</td>\n",
       "    </tr>\n",
       "  </tbody>\n",
       "</table>\n",
       "</div>"
      ],
      "text/plain": [
       "       category    event_name gender    age marital_status  \\\n",
       "0        Sports  View Project      M  18-24        married   \n",
       "1    Technology  View Project      M  18-24         single   \n",
       "2   Environment  View Project      M    55+         single   \n",
       "3    Technology  View Project      M  18-24         single   \n",
       "4        Sports  View Project      F  25-34        married   \n",
       "7    Technology  View Project      F  35-44        married   \n",
       "9    Technology  View Project      F  45-54        married   \n",
       "10   Technology  View Project      M  18-24         single   \n",
       "12       Sports  View Project      F  18-24        married   \n",
       "15   Technology  View Project      F  18-24         single   \n",
       "\n",
       "                          session_id   device         client_time  \\\n",
       "0   69f62d2ae87640f5a2dde2b2e9229fe6  android 2014-03-01 00:00:04   \n",
       "1   4459d001feb8438eae5f4ec24abcd992      iOS 2014-03-01 00:00:22   \n",
       "2   0db9ed700a184d48a9d04806696e3642      iOS 2014-03-01 00:00:32   \n",
       "3   68195e2372bd4022b17220fc21de9138  android 2014-03-01 00:00:38   \n",
       "4   9508a8385dc94773baba8aa7d1c2aa75      iOS 2014-03-01 00:00:51   \n",
       "7   c6f18d84b43b4a4a90fa9a44016c3665  android 2014-03-01 00:02:18   \n",
       "9   e040fa23c3f84ad58ca59f1552fa3f0b      iOS 2014-03-01 00:02:39   \n",
       "10  a0d400c1626047c29060259d08ee0385  android 2014-03-01 00:02:40   \n",
       "12  a1fdfe0bebed4510a9059bcfb3ba1325      iOS 2014-03-01 00:02:51   \n",
       "15  1b2a6e9a2e1f46b8827db37a28e7196e      iOS 2014-03-01 00:03:19   \n",
       "\n",
       "                                             location  amount  \n",
       "0   {'latitude': 40.189788, 'city': 'Lyons', 'stat...     NaN  \n",
       "1   {'latitude': 33.844371, 'city': 'Alpharetta', ...     NaN  \n",
       "2   {'latitude': 42.446396, 'city': 'Westford', 's...     NaN  \n",
       "3   {'latitude': 44.624413, 'city': 'Saranac', 'st...     NaN  \n",
       "4   {'latitude': 36.747083, 'city': 'Lampe', 'stat...     NaN  \n",
       "7   {'latitude': 37.103768, 'city': 'Los Banos', '...     NaN  \n",
       "9   {'latitude': 40.203459, 'city': 'Newtown', 'st...     NaN  \n",
       "10  {'latitude': 40.189788, 'city': 'Lyons', 'stat...     NaN  \n",
       "12  {'latitude': 33.794055, 'city': 'Atlanta', 'st...     NaN  \n",
       "15  {'latitude': 33.724907, 'city': 'Atlanta', 'st...     NaN  "
      ]
     },
     "execution_count": 6,
     "metadata": {},
     "output_type": "execute_result"
    }
   ],
   "source": [
    "df_category_filtered.head(10)"
   ]
  },
  {
   "cell_type": "markdown",
   "metadata": {},
   "source": [
    "### Client time: keeping only the year because the rest is irrelevant"
   ]
  },
  {
   "cell_type": "code",
   "execution_count": 7,
   "metadata": {},
   "outputs": [],
   "source": [
    "def client_time_edit(x):\n",
    "    return x.year"
   ]
  },
  {
   "cell_type": "code",
   "execution_count": 8,
   "metadata": {},
   "outputs": [],
   "source": [
    "df_category_filtered['client_time'] = df_category_filtered['client_time'].apply(client_time_edit)"
   ]
  },
  {
   "cell_type": "code",
   "execution_count": 9,
   "metadata": {},
   "outputs": [
    {
     "data": {
      "text/html": [
       "<div>\n",
       "<style scoped>\n",
       "    .dataframe tbody tr th:only-of-type {\n",
       "        vertical-align: middle;\n",
       "    }\n",
       "\n",
       "    .dataframe tbody tr th {\n",
       "        vertical-align: top;\n",
       "    }\n",
       "\n",
       "    .dataframe thead th {\n",
       "        text-align: right;\n",
       "    }\n",
       "</style>\n",
       "<table border=\"1\" class=\"dataframe\">\n",
       "  <thead>\n",
       "    <tr style=\"text-align: right;\">\n",
       "      <th></th>\n",
       "      <th>category</th>\n",
       "      <th>event_name</th>\n",
       "      <th>gender</th>\n",
       "      <th>age</th>\n",
       "      <th>marital_status</th>\n",
       "      <th>session_id</th>\n",
       "      <th>device</th>\n",
       "      <th>client_time</th>\n",
       "      <th>location</th>\n",
       "      <th>amount</th>\n",
       "    </tr>\n",
       "  </thead>\n",
       "  <tbody>\n",
       "    <tr>\n",
       "      <th>0</th>\n",
       "      <td>Sports</td>\n",
       "      <td>View Project</td>\n",
       "      <td>M</td>\n",
       "      <td>18-24</td>\n",
       "      <td>married</td>\n",
       "      <td>69f62d2ae87640f5a2dde2b2e9229fe6</td>\n",
       "      <td>android</td>\n",
       "      <td>2014</td>\n",
       "      <td>{'latitude': 40.189788, 'city': 'Lyons', 'stat...</td>\n",
       "      <td>NaN</td>\n",
       "    </tr>\n",
       "    <tr>\n",
       "      <th>1</th>\n",
       "      <td>Technology</td>\n",
       "      <td>View Project</td>\n",
       "      <td>M</td>\n",
       "      <td>18-24</td>\n",
       "      <td>single</td>\n",
       "      <td>4459d001feb8438eae5f4ec24abcd992</td>\n",
       "      <td>iOS</td>\n",
       "      <td>2014</td>\n",
       "      <td>{'latitude': 33.844371, 'city': 'Alpharetta', ...</td>\n",
       "      <td>NaN</td>\n",
       "    </tr>\n",
       "    <tr>\n",
       "      <th>2</th>\n",
       "      <td>Environment</td>\n",
       "      <td>View Project</td>\n",
       "      <td>M</td>\n",
       "      <td>55+</td>\n",
       "      <td>single</td>\n",
       "      <td>0db9ed700a184d48a9d04806696e3642</td>\n",
       "      <td>iOS</td>\n",
       "      <td>2014</td>\n",
       "      <td>{'latitude': 42.446396, 'city': 'Westford', 's...</td>\n",
       "      <td>NaN</td>\n",
       "    </tr>\n",
       "    <tr>\n",
       "      <th>3</th>\n",
       "      <td>Technology</td>\n",
       "      <td>View Project</td>\n",
       "      <td>M</td>\n",
       "      <td>18-24</td>\n",
       "      <td>single</td>\n",
       "      <td>68195e2372bd4022b17220fc21de9138</td>\n",
       "      <td>android</td>\n",
       "      <td>2014</td>\n",
       "      <td>{'latitude': 44.624413, 'city': 'Saranac', 'st...</td>\n",
       "      <td>NaN</td>\n",
       "    </tr>\n",
       "    <tr>\n",
       "      <th>4</th>\n",
       "      <td>Sports</td>\n",
       "      <td>View Project</td>\n",
       "      <td>F</td>\n",
       "      <td>25-34</td>\n",
       "      <td>married</td>\n",
       "      <td>9508a8385dc94773baba8aa7d1c2aa75</td>\n",
       "      <td>iOS</td>\n",
       "      <td>2014</td>\n",
       "      <td>{'latitude': 36.747083, 'city': 'Lampe', 'stat...</td>\n",
       "      <td>NaN</td>\n",
       "    </tr>\n",
       "    <tr>\n",
       "      <th>7</th>\n",
       "      <td>Technology</td>\n",
       "      <td>View Project</td>\n",
       "      <td>F</td>\n",
       "      <td>35-44</td>\n",
       "      <td>married</td>\n",
       "      <td>c6f18d84b43b4a4a90fa9a44016c3665</td>\n",
       "      <td>android</td>\n",
       "      <td>2014</td>\n",
       "      <td>{'latitude': 37.103768, 'city': 'Los Banos', '...</td>\n",
       "      <td>NaN</td>\n",
       "    </tr>\n",
       "    <tr>\n",
       "      <th>9</th>\n",
       "      <td>Technology</td>\n",
       "      <td>View Project</td>\n",
       "      <td>F</td>\n",
       "      <td>45-54</td>\n",
       "      <td>married</td>\n",
       "      <td>e040fa23c3f84ad58ca59f1552fa3f0b</td>\n",
       "      <td>iOS</td>\n",
       "      <td>2014</td>\n",
       "      <td>{'latitude': 40.203459, 'city': 'Newtown', 'st...</td>\n",
       "      <td>NaN</td>\n",
       "    </tr>\n",
       "    <tr>\n",
       "      <th>10</th>\n",
       "      <td>Technology</td>\n",
       "      <td>View Project</td>\n",
       "      <td>M</td>\n",
       "      <td>18-24</td>\n",
       "      <td>single</td>\n",
       "      <td>a0d400c1626047c29060259d08ee0385</td>\n",
       "      <td>android</td>\n",
       "      <td>2014</td>\n",
       "      <td>{'latitude': 40.189788, 'city': 'Lyons', 'stat...</td>\n",
       "      <td>NaN</td>\n",
       "    </tr>\n",
       "    <tr>\n",
       "      <th>12</th>\n",
       "      <td>Sports</td>\n",
       "      <td>View Project</td>\n",
       "      <td>F</td>\n",
       "      <td>18-24</td>\n",
       "      <td>married</td>\n",
       "      <td>a1fdfe0bebed4510a9059bcfb3ba1325</td>\n",
       "      <td>iOS</td>\n",
       "      <td>2014</td>\n",
       "      <td>{'latitude': 33.794055, 'city': 'Atlanta', 'st...</td>\n",
       "      <td>NaN</td>\n",
       "    </tr>\n",
       "    <tr>\n",
       "      <th>15</th>\n",
       "      <td>Technology</td>\n",
       "      <td>View Project</td>\n",
       "      <td>F</td>\n",
       "      <td>18-24</td>\n",
       "      <td>single</td>\n",
       "      <td>1b2a6e9a2e1f46b8827db37a28e7196e</td>\n",
       "      <td>iOS</td>\n",
       "      <td>2014</td>\n",
       "      <td>{'latitude': 33.724907, 'city': 'Atlanta', 'st...</td>\n",
       "      <td>NaN</td>\n",
       "    </tr>\n",
       "  </tbody>\n",
       "</table>\n",
       "</div>"
      ],
      "text/plain": [
       "       category    event_name gender    age marital_status  \\\n",
       "0        Sports  View Project      M  18-24        married   \n",
       "1    Technology  View Project      M  18-24         single   \n",
       "2   Environment  View Project      M    55+         single   \n",
       "3    Technology  View Project      M  18-24         single   \n",
       "4        Sports  View Project      F  25-34        married   \n",
       "7    Technology  View Project      F  35-44        married   \n",
       "9    Technology  View Project      F  45-54        married   \n",
       "10   Technology  View Project      M  18-24         single   \n",
       "12       Sports  View Project      F  18-24        married   \n",
       "15   Technology  View Project      F  18-24         single   \n",
       "\n",
       "                          session_id   device  client_time  \\\n",
       "0   69f62d2ae87640f5a2dde2b2e9229fe6  android         2014   \n",
       "1   4459d001feb8438eae5f4ec24abcd992      iOS         2014   \n",
       "2   0db9ed700a184d48a9d04806696e3642      iOS         2014   \n",
       "3   68195e2372bd4022b17220fc21de9138  android         2014   \n",
       "4   9508a8385dc94773baba8aa7d1c2aa75      iOS         2014   \n",
       "7   c6f18d84b43b4a4a90fa9a44016c3665  android         2014   \n",
       "9   e040fa23c3f84ad58ca59f1552fa3f0b      iOS         2014   \n",
       "10  a0d400c1626047c29060259d08ee0385  android         2014   \n",
       "12  a1fdfe0bebed4510a9059bcfb3ba1325      iOS         2014   \n",
       "15  1b2a6e9a2e1f46b8827db37a28e7196e      iOS         2014   \n",
       "\n",
       "                                             location  amount  \n",
       "0   {'latitude': 40.189788, 'city': 'Lyons', 'stat...     NaN  \n",
       "1   {'latitude': 33.844371, 'city': 'Alpharetta', ...     NaN  \n",
       "2   {'latitude': 42.446396, 'city': 'Westford', 's...     NaN  \n",
       "3   {'latitude': 44.624413, 'city': 'Saranac', 'st...     NaN  \n",
       "4   {'latitude': 36.747083, 'city': 'Lampe', 'stat...     NaN  \n",
       "7   {'latitude': 37.103768, 'city': 'Los Banos', '...     NaN  \n",
       "9   {'latitude': 40.203459, 'city': 'Newtown', 'st...     NaN  \n",
       "10  {'latitude': 40.189788, 'city': 'Lyons', 'stat...     NaN  \n",
       "12  {'latitude': 33.794055, 'city': 'Atlanta', 'st...     NaN  \n",
       "15  {'latitude': 33.724907, 'city': 'Atlanta', 'st...     NaN  "
      ]
     },
     "execution_count": 9,
     "metadata": {},
     "output_type": "execute_result"
    }
   ],
   "source": [
    "df_category_filtered.head(10)"
   ]
  },
  {
   "cell_type": "code",
   "execution_count": 10,
   "metadata": {},
   "outputs": [
    {
     "data": {
      "text/plain": [
       "1"
      ]
     },
     "execution_count": 10,
     "metadata": {},
     "output_type": "execute_result"
    }
   ],
   "source": [
    "len(df_category_filtered['client_time'].unique())"
   ]
  },
  {
   "cell_type": "markdown",
   "metadata": {},
   "source": [
    "Since there's only one year over which the data has been collected, its safe to just drop the client_time column from the dataframe."
   ]
  },
  {
   "cell_type": "code",
   "execution_count": 11,
   "metadata": {},
   "outputs": [],
   "source": [
    "df_category_filtered = df_category_filtered.drop('client_time', 1)"
   ]
  },
  {
   "cell_type": "markdown",
   "metadata": {},
   "source": [
    "### Splitting the dataframe into two: \n",
    "1) View Project      2) Fund Project"
   ]
  },
  {
   "cell_type": "code",
   "execution_count": 12,
   "metadata": {},
   "outputs": [
    {
     "data": {
      "text/plain": [
       "View Project    17696\n",
       "Fund Project    12412\n",
       "Name: event_name, dtype: int64"
      ]
     },
     "execution_count": 12,
     "metadata": {},
     "output_type": "execute_result"
    }
   ],
   "source": [
    "df_category_filtered['event_name'].value_counts()"
   ]
  },
  {
   "cell_type": "code",
   "execution_count": 13,
   "metadata": {},
   "outputs": [
    {
     "data": {
      "text/plain": [
       "8725"
      ]
     },
     "execution_count": 13,
     "metadata": {},
     "output_type": "execute_result"
    }
   ],
   "source": [
    "len(df_category_filtered['session_id'].unique())"
   ]
  },
  {
   "cell_type": "code",
   "execution_count": 14,
   "metadata": {},
   "outputs": [
    {
     "data": {
      "text/plain": [
       "30108"
      ]
     },
     "execution_count": 14,
     "metadata": {},
     "output_type": "execute_result"
    }
   ],
   "source": [
    "len(df_category_filtered['session_id'])"
   ]
  },
  {
   "cell_type": "code",
   "execution_count": 15,
   "metadata": {},
   "outputs": [],
   "source": [
    "df_view = df_category_filtered[df_category_filtered['event_name'] == 'View Project']\n",
    "df_fund = df_category_filtered[df_category_filtered['event_name'] == 'Fund Project']"
   ]
  },
  {
   "cell_type": "code",
   "execution_count": 16,
   "metadata": {},
   "outputs": [
    {
     "data": {
      "text/html": [
       "<div>\n",
       "<style scoped>\n",
       "    .dataframe tbody tr th:only-of-type {\n",
       "        vertical-align: middle;\n",
       "    }\n",
       "\n",
       "    .dataframe tbody tr th {\n",
       "        vertical-align: top;\n",
       "    }\n",
       "\n",
       "    .dataframe thead th {\n",
       "        text-align: right;\n",
       "    }\n",
       "</style>\n",
       "<table border=\"1\" class=\"dataframe\">\n",
       "  <thead>\n",
       "    <tr style=\"text-align: right;\">\n",
       "      <th></th>\n",
       "      <th>category</th>\n",
       "      <th>event_name</th>\n",
       "      <th>gender</th>\n",
       "      <th>age</th>\n",
       "      <th>marital_status</th>\n",
       "      <th>session_id</th>\n",
       "      <th>device</th>\n",
       "      <th>location</th>\n",
       "      <th>amount</th>\n",
       "    </tr>\n",
       "  </thead>\n",
       "  <tbody>\n",
       "    <tr>\n",
       "      <th>0</th>\n",
       "      <td>Sports</td>\n",
       "      <td>View Project</td>\n",
       "      <td>M</td>\n",
       "      <td>18-24</td>\n",
       "      <td>married</td>\n",
       "      <td>69f62d2ae87640f5a2dde2b2e9229fe6</td>\n",
       "      <td>android</td>\n",
       "      <td>{'latitude': 40.189788, 'city': 'Lyons', 'stat...</td>\n",
       "      <td>NaN</td>\n",
       "    </tr>\n",
       "    <tr>\n",
       "      <th>1</th>\n",
       "      <td>Technology</td>\n",
       "      <td>View Project</td>\n",
       "      <td>M</td>\n",
       "      <td>18-24</td>\n",
       "      <td>single</td>\n",
       "      <td>4459d001feb8438eae5f4ec24abcd992</td>\n",
       "      <td>iOS</td>\n",
       "      <td>{'latitude': 33.844371, 'city': 'Alpharetta', ...</td>\n",
       "      <td>NaN</td>\n",
       "    </tr>\n",
       "    <tr>\n",
       "      <th>2</th>\n",
       "      <td>Environment</td>\n",
       "      <td>View Project</td>\n",
       "      <td>M</td>\n",
       "      <td>55+</td>\n",
       "      <td>single</td>\n",
       "      <td>0db9ed700a184d48a9d04806696e3642</td>\n",
       "      <td>iOS</td>\n",
       "      <td>{'latitude': 42.446396, 'city': 'Westford', 's...</td>\n",
       "      <td>NaN</td>\n",
       "    </tr>\n",
       "    <tr>\n",
       "      <th>3</th>\n",
       "      <td>Technology</td>\n",
       "      <td>View Project</td>\n",
       "      <td>M</td>\n",
       "      <td>18-24</td>\n",
       "      <td>single</td>\n",
       "      <td>68195e2372bd4022b17220fc21de9138</td>\n",
       "      <td>android</td>\n",
       "      <td>{'latitude': 44.624413, 'city': 'Saranac', 'st...</td>\n",
       "      <td>NaN</td>\n",
       "    </tr>\n",
       "    <tr>\n",
       "      <th>4</th>\n",
       "      <td>Sports</td>\n",
       "      <td>View Project</td>\n",
       "      <td>F</td>\n",
       "      <td>25-34</td>\n",
       "      <td>married</td>\n",
       "      <td>9508a8385dc94773baba8aa7d1c2aa75</td>\n",
       "      <td>iOS</td>\n",
       "      <td>{'latitude': 36.747083, 'city': 'Lampe', 'stat...</td>\n",
       "      <td>NaN</td>\n",
       "    </tr>\n",
       "  </tbody>\n",
       "</table>\n",
       "</div>"
      ],
      "text/plain": [
       "      category    event_name gender    age marital_status  \\\n",
       "0       Sports  View Project      M  18-24        married   \n",
       "1   Technology  View Project      M  18-24         single   \n",
       "2  Environment  View Project      M    55+         single   \n",
       "3   Technology  View Project      M  18-24         single   \n",
       "4       Sports  View Project      F  25-34        married   \n",
       "\n",
       "                         session_id   device  \\\n",
       "0  69f62d2ae87640f5a2dde2b2e9229fe6  android   \n",
       "1  4459d001feb8438eae5f4ec24abcd992      iOS   \n",
       "2  0db9ed700a184d48a9d04806696e3642      iOS   \n",
       "3  68195e2372bd4022b17220fc21de9138  android   \n",
       "4  9508a8385dc94773baba8aa7d1c2aa75      iOS   \n",
       "\n",
       "                                            location  amount  \n",
       "0  {'latitude': 40.189788, 'city': 'Lyons', 'stat...     NaN  \n",
       "1  {'latitude': 33.844371, 'city': 'Alpharetta', ...     NaN  \n",
       "2  {'latitude': 42.446396, 'city': 'Westford', 's...     NaN  \n",
       "3  {'latitude': 44.624413, 'city': 'Saranac', 'st...     NaN  \n",
       "4  {'latitude': 36.747083, 'city': 'Lampe', 'stat...     NaN  "
      ]
     },
     "execution_count": 16,
     "metadata": {},
     "output_type": "execute_result"
    }
   ],
   "source": [
    "df_view.head(5)"
   ]
  },
  {
   "cell_type": "code",
   "execution_count": 17,
   "metadata": {},
   "outputs": [
    {
     "data": {
      "text/html": [
       "<div>\n",
       "<style scoped>\n",
       "    .dataframe tbody tr th:only-of-type {\n",
       "        vertical-align: middle;\n",
       "    }\n",
       "\n",
       "    .dataframe tbody tr th {\n",
       "        vertical-align: top;\n",
       "    }\n",
       "\n",
       "    .dataframe thead th {\n",
       "        text-align: right;\n",
       "    }\n",
       "</style>\n",
       "<table border=\"1\" class=\"dataframe\">\n",
       "  <thead>\n",
       "    <tr style=\"text-align: right;\">\n",
       "      <th></th>\n",
       "      <th>category</th>\n",
       "      <th>event_name</th>\n",
       "      <th>gender</th>\n",
       "      <th>age</th>\n",
       "      <th>marital_status</th>\n",
       "      <th>session_id</th>\n",
       "      <th>device</th>\n",
       "      <th>location</th>\n",
       "      <th>amount</th>\n",
       "    </tr>\n",
       "  </thead>\n",
       "  <tbody>\n",
       "    <tr>\n",
       "      <th>16</th>\n",
       "      <td>Sports</td>\n",
       "      <td>Fund Project</td>\n",
       "      <td>M</td>\n",
       "      <td>18-24</td>\n",
       "      <td>married</td>\n",
       "      <td>69f62d2ae87640f5a2dde2b2e9229fe6</td>\n",
       "      <td>android</td>\n",
       "      <td>{'latitude': 40.189788, 'city': 'Lyons', 'stat...</td>\n",
       "      <td>31.0</td>\n",
       "    </tr>\n",
       "    <tr>\n",
       "      <th>18</th>\n",
       "      <td>Technology</td>\n",
       "      <td>Fund Project</td>\n",
       "      <td>M</td>\n",
       "      <td>18-24</td>\n",
       "      <td>single</td>\n",
       "      <td>a0d400c1626047c29060259d08ee0385</td>\n",
       "      <td>android</td>\n",
       "      <td>{'latitude': 40.189788, 'city': 'Lyons', 'stat...</td>\n",
       "      <td>39.0</td>\n",
       "    </tr>\n",
       "    <tr>\n",
       "      <th>25</th>\n",
       "      <td>Technology</td>\n",
       "      <td>Fund Project</td>\n",
       "      <td>M</td>\n",
       "      <td>18-24</td>\n",
       "      <td>single</td>\n",
       "      <td>4459d001feb8438eae5f4ec24abcd992</td>\n",
       "      <td>iOS</td>\n",
       "      <td>{'latitude': 33.844371, 'city': 'Alpharetta', ...</td>\n",
       "      <td>36.0</td>\n",
       "    </tr>\n",
       "    <tr>\n",
       "      <th>35</th>\n",
       "      <td>Sports</td>\n",
       "      <td>Fund Project</td>\n",
       "      <td>M</td>\n",
       "      <td>18-24</td>\n",
       "      <td>married</td>\n",
       "      <td>be389e9be0e74398adcef3292ac409ee</td>\n",
       "      <td>android</td>\n",
       "      <td>{'latitude': 45.408374, 'city': 'Lake Oswego',...</td>\n",
       "      <td>40.0</td>\n",
       "    </tr>\n",
       "    <tr>\n",
       "      <th>71</th>\n",
       "      <td>Technology</td>\n",
       "      <td>Fund Project</td>\n",
       "      <td>F</td>\n",
       "      <td>35-44</td>\n",
       "      <td>married</td>\n",
       "      <td>c6f18d84b43b4a4a90fa9a44016c3665</td>\n",
       "      <td>android</td>\n",
       "      <td>{'latitude': 37.103768, 'city': 'Los Banos', '...</td>\n",
       "      <td>33.0</td>\n",
       "    </tr>\n",
       "  </tbody>\n",
       "</table>\n",
       "</div>"
      ],
      "text/plain": [
       "      category    event_name gender    age marital_status  \\\n",
       "16      Sports  Fund Project      M  18-24        married   \n",
       "18  Technology  Fund Project      M  18-24         single   \n",
       "25  Technology  Fund Project      M  18-24         single   \n",
       "35      Sports  Fund Project      M  18-24        married   \n",
       "71  Technology  Fund Project      F  35-44        married   \n",
       "\n",
       "                          session_id   device  \\\n",
       "16  69f62d2ae87640f5a2dde2b2e9229fe6  android   \n",
       "18  a0d400c1626047c29060259d08ee0385  android   \n",
       "25  4459d001feb8438eae5f4ec24abcd992      iOS   \n",
       "35  be389e9be0e74398adcef3292ac409ee  android   \n",
       "71  c6f18d84b43b4a4a90fa9a44016c3665  android   \n",
       "\n",
       "                                             location  amount  \n",
       "16  {'latitude': 40.189788, 'city': 'Lyons', 'stat...    31.0  \n",
       "18  {'latitude': 40.189788, 'city': 'Lyons', 'stat...    39.0  \n",
       "25  {'latitude': 33.844371, 'city': 'Alpharetta', ...    36.0  \n",
       "35  {'latitude': 45.408374, 'city': 'Lake Oswego',...    40.0  \n",
       "71  {'latitude': 37.103768, 'city': 'Los Banos', '...    33.0  "
      ]
     },
     "execution_count": 17,
     "metadata": {},
     "output_type": "execute_result"
    }
   ],
   "source": [
    "df_fund.head(5)"
   ]
  },
  {
   "cell_type": "code",
   "execution_count": 18,
   "metadata": {},
   "outputs": [
    {
     "data": {
      "text/plain": [
       "17696"
      ]
     },
     "execution_count": 18,
     "metadata": {},
     "output_type": "execute_result"
    }
   ],
   "source": [
    "len(df_view['session_id'])"
   ]
  },
  {
   "cell_type": "markdown",
   "metadata": {},
   "source": [
    "Now, we can use the dataframe which contains the Fund Project to identify the segment in the View Project dataframe which could possibly fund the project."
   ]
  },
  {
   "cell_type": "markdown",
   "metadata": {},
   "source": [
    "## Studying the device column in Fund Project dataframe"
   ]
  },
  {
   "cell_type": "code",
   "execution_count": 19,
   "metadata": {},
   "outputs": [
    {
     "data": {
      "text/plain": [
       "<matplotlib.axes._subplots.AxesSubplot at 0x2906d5ca7b8>"
      ]
     },
     "execution_count": 19,
     "metadata": {},
     "output_type": "execute_result"
    },
    {
     "data": {
      "image/png": "[encoded data removed]",
      "text/plain": [
       "<Figure size 432x288 with 1 Axes>"
      ]
     },
     "metadata": {
      "needs_background": "light"
     },
     "output_type": "display_data"
    }
   ],
   "source": [
    "df_fund['device'].value_counts().plot.bar()"
   ]
  },
  {
   "cell_type": "markdown",
   "metadata": {},
   "source": [
    "We can see that people using an iOS device tend to donate more. "
   ]
  },
  {
   "cell_type": "code",
   "execution_count": 20,
   "metadata": {},
   "outputs": [
    {
     "data": {
      "text/html": [
       "<div>\n",
       "<style scoped>\n",
       "    .dataframe tbody tr th:only-of-type {\n",
       "        vertical-align: middle;\n",
       "    }\n",
       "\n",
       "    .dataframe tbody tr th {\n",
       "        vertical-align: top;\n",
       "    }\n",
       "\n",
       "    .dataframe thead th {\n",
       "        text-align: right;\n",
       "    }\n",
       "</style>\n",
       "<table border=\"1\" class=\"dataframe\">\n",
       "  <thead>\n",
       "    <tr style=\"text-align: right;\">\n",
       "      <th></th>\n",
       "      <th>category</th>\n",
       "      <th>event_name</th>\n",
       "      <th>gender</th>\n",
       "      <th>age</th>\n",
       "      <th>marital_status</th>\n",
       "      <th>session_id</th>\n",
       "      <th>device</th>\n",
       "      <th>location</th>\n",
       "      <th>amount</th>\n",
       "    </tr>\n",
       "  </thead>\n",
       "  <tbody>\n",
       "    <tr>\n",
       "      <th>16</th>\n",
       "      <td>Sports</td>\n",
       "      <td>Fund Project</td>\n",
       "      <td>M</td>\n",
       "      <td>18-24</td>\n",
       "      <td>married</td>\n",
       "      <td>69f62d2ae87640f5a2dde2b2e9229fe6</td>\n",
       "      <td>android</td>\n",
       "      <td>{'latitude': 40.189788, 'city': 'Lyons', 'stat...</td>\n",
       "      <td>31.0</td>\n",
       "    </tr>\n",
       "    <tr>\n",
       "      <th>18</th>\n",
       "      <td>Technology</td>\n",
       "      <td>Fund Project</td>\n",
       "      <td>M</td>\n",
       "      <td>18-24</td>\n",
       "      <td>single</td>\n",
       "      <td>a0d400c1626047c29060259d08ee0385</td>\n",
       "      <td>android</td>\n",
       "      <td>{'latitude': 40.189788, 'city': 'Lyons', 'stat...</td>\n",
       "      <td>39.0</td>\n",
       "    </tr>\n",
       "    <tr>\n",
       "      <th>25</th>\n",
       "      <td>Technology</td>\n",
       "      <td>Fund Project</td>\n",
       "      <td>M</td>\n",
       "      <td>18-24</td>\n",
       "      <td>single</td>\n",
       "      <td>4459d001feb8438eae5f4ec24abcd992</td>\n",
       "      <td>iOS</td>\n",
       "      <td>{'latitude': 33.844371, 'city': 'Alpharetta', ...</td>\n",
       "      <td>36.0</td>\n",
       "    </tr>\n",
       "    <tr>\n",
       "      <th>35</th>\n",
       "      <td>Sports</td>\n",
       "      <td>Fund Project</td>\n",
       "      <td>M</td>\n",
       "      <td>18-24</td>\n",
       "      <td>married</td>\n",
       "      <td>be389e9be0e74398adcef3292ac409ee</td>\n",
       "      <td>android</td>\n",
       "      <td>{'latitude': 45.408374, 'city': 'Lake Oswego',...</td>\n",
       "      <td>40.0</td>\n",
       "    </tr>\n",
       "    <tr>\n",
       "      <th>71</th>\n",
       "      <td>Technology</td>\n",
       "      <td>Fund Project</td>\n",
       "      <td>F</td>\n",
       "      <td>35-44</td>\n",
       "      <td>married</td>\n",
       "      <td>c6f18d84b43b4a4a90fa9a44016c3665</td>\n",
       "      <td>android</td>\n",
       "      <td>{'latitude': 37.103768, 'city': 'Los Banos', '...</td>\n",
       "      <td>33.0</td>\n",
       "    </tr>\n",
       "    <tr>\n",
       "      <th>78</th>\n",
       "      <td>Sports</td>\n",
       "      <td>Fund Project</td>\n",
       "      <td>F</td>\n",
       "      <td>18-24</td>\n",
       "      <td>single</td>\n",
       "      <td>71ca342ead4f4da180da4f9b4baaf760</td>\n",
       "      <td>android</td>\n",
       "      <td>{'latitude': 33.844371, 'city': 'Alpharetta', ...</td>\n",
       "      <td>53.0</td>\n",
       "    </tr>\n",
       "    <tr>\n",
       "      <th>100</th>\n",
       "      <td>Sports</td>\n",
       "      <td>Fund Project</td>\n",
       "      <td>F</td>\n",
       "      <td>18-24</td>\n",
       "      <td>married</td>\n",
       "      <td>a1fdfe0bebed4510a9059bcfb3ba1325</td>\n",
       "      <td>iOS</td>\n",
       "      <td>{'latitude': 33.794055, 'city': 'Atlanta', 'st...</td>\n",
       "      <td>48.0</td>\n",
       "    </tr>\n",
       "    <tr>\n",
       "      <th>120</th>\n",
       "      <td>Technology</td>\n",
       "      <td>Fund Project</td>\n",
       "      <td>M</td>\n",
       "      <td>35-44</td>\n",
       "      <td>married</td>\n",
       "      <td>cfaa408840fc49b0bc34ebd4ee1cd6c5</td>\n",
       "      <td>iOS</td>\n",
       "      <td>{'latitude': 30.912773, 'city': 'Eldorado', 's...</td>\n",
       "      <td>50.0</td>\n",
       "    </tr>\n",
       "    <tr>\n",
       "      <th>131</th>\n",
       "      <td>Sports</td>\n",
       "      <td>Fund Project</td>\n",
       "      <td>M</td>\n",
       "      <td>45-54</td>\n",
       "      <td>single</td>\n",
       "      <td>d23a964e8656403b853eb2a24139c408</td>\n",
       "      <td>android</td>\n",
       "      <td>{'latitude': 39.102704, 'city': 'Kansas City',...</td>\n",
       "      <td>27.0</td>\n",
       "    </tr>\n",
       "    <tr>\n",
       "      <th>136</th>\n",
       "      <td>Technology</td>\n",
       "      <td>Fund Project</td>\n",
       "      <td>F</td>\n",
       "      <td>18-24</td>\n",
       "      <td>married</td>\n",
       "      <td>2844f7dd40c2400382b1456ac948983c</td>\n",
       "      <td>android</td>\n",
       "      <td>{'latitude': 45.45509, 'city': 'Portland', 'st...</td>\n",
       "      <td>27.0</td>\n",
       "    </tr>\n",
       "  </tbody>\n",
       "</table>\n",
       "</div>"
      ],
      "text/plain": [
       "       category    event_name gender    age marital_status  \\\n",
       "16       Sports  Fund Project      M  18-24        married   \n",
       "18   Technology  Fund Project      M  18-24         single   \n",
       "25   Technology  Fund Project      M  18-24         single   \n",
       "35       Sports  Fund Project      M  18-24        married   \n",
       "71   Technology  Fund Project      F  35-44        married   \n",
       "78       Sports  Fund Project      F  18-24         single   \n",
       "100      Sports  Fund Project      F  18-24        married   \n",
       "120  Technology  Fund Project      M  35-44        married   \n",
       "131      Sports  Fund Project      M  45-54         single   \n",
       "136  Technology  Fund Project      F  18-24        married   \n",
       "\n",
       "                           session_id   device  \\\n",
       "16   69f62d2ae87640f5a2dde2b2e9229fe6  android   \n",
       "18   a0d400c1626047c29060259d08ee0385  android   \n",
       "25   4459d001feb8438eae5f4ec24abcd992      iOS   \n",
       "35   be389e9be0e74398adcef3292ac409ee  android   \n",
       "71   c6f18d84b43b4a4a90fa9a44016c3665  android   \n",
       "78   71ca342ead4f4da180da4f9b4baaf760  android   \n",
       "100  a1fdfe0bebed4510a9059bcfb3ba1325      iOS   \n",
       "120  cfaa408840fc49b0bc34ebd4ee1cd6c5      iOS   \n",
       "131  d23a964e8656403b853eb2a24139c408  android   \n",
       "136  2844f7dd40c2400382b1456ac948983c  android   \n",
       "\n",
       "                                              location  amount  \n",
       "16   {'latitude': 40.189788, 'city': 'Lyons', 'stat...    31.0  \n",
       "18   {'latitude': 40.189788, 'city': 'Lyons', 'stat...    39.0  \n",
       "25   {'latitude': 33.844371, 'city': 'Alpharetta', ...    36.0  \n",
       "35   {'latitude': 45.408374, 'city': 'Lake Oswego',...    40.0  \n",
       "71   {'latitude': 37.103768, 'city': 'Los Banos', '...    33.0  \n",
       "78   {'latitude': 33.844371, 'city': 'Alpharetta', ...    53.0  \n",
       "100  {'latitude': 33.794055, 'city': 'Atlanta', 'st...    48.0  \n",
       "120  {'latitude': 30.912773, 'city': 'Eldorado', 's...    50.0  \n",
       "131  {'latitude': 39.102704, 'city': 'Kansas City',...    27.0  \n",
       "136  {'latitude': 45.45509, 'city': 'Portland', 'st...    27.0  "
      ]
     },
     "execution_count": 20,
     "metadata": {},
     "output_type": "execute_result"
    }
   ],
   "source": [
    "df_fund.head(10)"
   ]
  },
  {
   "cell_type": "markdown",
   "metadata": {},
   "source": [
    "## Studying the marital_status column in Fund Project dataframe"
   ]
  },
  {
   "cell_type": "code",
   "execution_count": 21,
   "metadata": {},
   "outputs": [
    {
     "data": {
      "text/plain": [
       "<matplotlib.axes._subplots.AxesSubplot at 0x2906d65b710>"
      ]
     },
     "execution_count": 21,
     "metadata": {},
     "output_type": "execute_result"
    },
    {
     "data": {
      "image/png": "[encoded data removed]",
      "text/plain": [
       "<Figure size 432x288 with 1 Axes>"
      ]
     },
     "metadata": {
      "needs_background": "light"
     },
     "output_type": "display_data"
    }
   ],
   "source": [
    "df_fund['marital_status'].value_counts().plot.bar()"
   ]
  },
  {
   "cell_type": "markdown",
   "metadata": {},
   "source": [
    "We can see that married people tend to donate more. "
   ]
  },
  {
   "cell_type": "markdown",
   "metadata": {},
   "source": [
    "## Studying the age column in Fund Project dataframe"
   ]
  },
  {
   "cell_type": "code",
   "execution_count": 22,
   "metadata": {},
   "outputs": [
    {
     "data": {
      "text/plain": [
       "<matplotlib.axes._subplots.AxesSubplot at 0x2906d6f0588>"
      ]
     },
     "execution_count": 22,
     "metadata": {},
     "output_type": "execute_result"
    },
    {
     "data": {
      "image/png": "[encoded data removed]",
      "text/plain": [
       "<Figure size 432x288 with 1 Axes>"
      ]
     },
     "metadata": {
      "needs_background": "light"
     },
     "output_type": "display_data"
    }
   ],
   "source": [
    "df_fund['age'].value_counts().plot.bar()"
   ]
  },
  {
   "cell_type": "markdown",
   "metadata": {},
   "source": [
    "Therefore, we can see clearly that people belonging to the age group 18-24 donate the most."
   ]
  },
  {
   "cell_type": "markdown",
   "metadata": {},
   "source": [
    "## Studying the location column in Fund Project dataframe"
   ]
  },
  {
   "cell_type": "markdown",
   "metadata": {},
   "source": [
    "Plotting the latitudes and longitudes in the fund dataframe"
   ]
  },
  {
   "cell_type": "code",
   "execution_count": 23,
   "metadata": {},
   "outputs": [],
   "source": [
    "# round the longitude and latitude to 1 decimal point to group them better\n",
    "# deleting the state and zip_code, since coordinates and city is enough\n",
    "longitudes = []\n",
    "latitudes = []\n",
    "for _, d in df_fund['location'].iteritems(): \n",
    "    d['latitude'] = round(d.get('latitude'))\n",
    "    d['longitude'] = round(d.get('longitude'))\n",
    "    longitudes.append(int(d['longitude']))\n",
    "    latitudes.append(int(d['latitude']))\n",
    "    d.pop('state')\n",
    "    d.pop('zip_code')"
   ]
  },
  {
   "cell_type": "code",
   "execution_count": 24,
   "metadata": {},
   "outputs": [
    {
     "name": "stdout",
     "output_type": "stream",
     "text": [
      "(-168, -69, 21, 64)\n"
     ]
    }
   ],
   "source": [
    "BBox = ((min(longitudes),   max(longitudes),      \n",
    "         min(latitudes), max(latitudes)))\n",
    "print(BBox)"
   ]
  },
  {
   "cell_type": "code",
   "execution_count": 25,
   "metadata": {},
   "outputs": [],
   "source": [
    "ruh_m = plt.imread('map.png')"
   ]
  },
  {
   "cell_type": "markdown",
   "metadata": {},
   "source": [
    "Plotting the longitudes and latitudes"
   ]
  },
  {
   "cell_type": "code",
   "execution_count": 26,
   "metadata": {},
   "outputs": [
    {
     "data": {
      "text/plain": [
       "<matplotlib.image.AxesImage at 0x2906d750240>"
      ]
     },
     "execution_count": 26,
     "metadata": {},
     "output_type": "execute_result"
    },
    {
     "data": {
      "image/png": "[encoded data removed]",
      "text/plain": [
       "<Figure size 576x504 with 1 Axes>"
      ]
     },
     "metadata": {
      "needs_background": "light"
     },
     "output_type": "display_data"
    }
   ],
   "source": [
    "fig, ax = plt.subplots(figsize = (8,7))\n",
    "ax.scatter(longitudes, latitudes, zorder=1, alpha= 0.2, c='b', s=10)\n",
    "ax.set_title('Plotting Spatial Data on US Map')\n",
    "ax.set_xlim(BBox[0],BBox[1])\n",
    "ax.set_ylim(BBox[2],BBox[3])\n",
    "ax.imshow(ruh_m, zorder=0, extent = BBox, aspect= 'equal')"
   ]
  },
  {
   "cell_type": "markdown",
   "metadata": {},
   "source": [
    "Plotting the points by density. It's much easier to see where most of the people donating live."
   ]
  },
  {
   "cell_type": "code",
   "execution_count": 27,
   "metadata": {},
   "outputs": [
    {
     "data": {
      "text/plain": [
       "<matplotlib.image.AxesImage at 0x2906d80bfd0>"
      ]
     },
     "execution_count": 27,
     "metadata": {},
     "output_type": "execute_result"
    },
    {
     "data": {
      "image/png": "[encoded data removed]",
      "text/plain": [
       "<Figure size 720x648 with 1 Axes>"
      ]
     },
     "metadata": {
      "needs_background": "light"
     },
     "output_type": "display_data"
    }
   ],
   "source": [
    "fig, ax = plt.subplots(figsize = (10,9))\n",
    "x = np.array(longitudes)\n",
    "y = np.array(latitudes)\n",
    "\n",
    "# Calculate the point density\n",
    "xy = np.vstack([x,y])\n",
    "z = gaussian_kde(xy)(xy)\n",
    "\n",
    "# Sort the points by density, so that the densest points are plotted last\n",
    "idx = z.argsort()\n",
    "x, y, z = x[idx], y[idx], z[idx]\n",
    "\n",
    "ax.scatter(x, y, c=z, s=100, edgecolor='')\n",
    "ax.set_title('Plotting Spatial Data on US Map')\n",
    "ax.set_xlim(BBox[0],BBox[1])\n",
    "ax.set_ylim(BBox[2],BBox[3])\n",
    "ax.imshow(ruh_m, zorder=0, extent = BBox, aspect= 'equal')"
   ]
  },
  {
   "cell_type": "markdown",
   "metadata": {},
   "source": [
    "We can now see which cities or areas have high density of donators. Then we can use this information to target people in the View Project dataframe"
   ]
  },
  {
   "cell_type": "markdown",
   "metadata": {},
   "source": [
    "# Conclusion"
   ]
  },
  {
   "cell_type": "markdown",
   "metadata": {},
   "source": [
    "The people who were in the fund project were more inclined to be aged between 18 and 24, be married, use an iOS device, and be living in the areas/cities shown in the density map above.\n",
    "\n",
    "We can then target the people in the View Project and Fund Project belonging to this demographic."
   ]
  }
 ],
 "metadata": {
  "kernelspec": {
   "display_name": "Python 3",
   "language": "python",
   "name": "python3"
  },
  "language_info": {
   "codemirror_mode": {
    "name": "ipython",
    "version": 3
   },
   "file_extension": ".py",
   "mimetype": "text/x-python",
   "name": "python",
   "nbconvert_exporter": "python",
   "pygments_lexer": "ipython3",
   "version": "3.6.10"
  }
 },
 "nbformat": 4,
 "nbformat_minor": 4
}
